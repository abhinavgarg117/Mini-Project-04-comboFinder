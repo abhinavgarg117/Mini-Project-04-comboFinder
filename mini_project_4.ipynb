{
  "nbformat": 4,
  "nbformat_minor": 0,
  "metadata": {
    "colab": {
      "provenance": [],
      "include_colab_link": true
    },
    "kernelspec": {
      "name": "python3",
      "display_name": "Python 3"
    },
    "language_info": {
      "name": "python"
    }
  },
  "cells": [
    {
      "cell_type": "markdown",
      "metadata": {
        "id": "view-in-github",
        "colab_type": "text"
      },
      "source": [
        "<a href=\"https://colab.research.google.com/github/abhinavgarg117/Mini-Project-04-comboFinder/blob/main/mini_project_4.ipynb\" target=\"_parent\"><img src=\"https://colab.research.google.com/assets/colab-badge.svg\" alt=\"Open In Colab\"/></a>"
      ]
    },
    {
      "cell_type": "markdown",
      "source": [
        "# **ComboFinder**"
      ],
      "metadata": {
        "id": "XY56TN3G4p36"
      }
    },
    {
      "cell_type": "markdown",
      "source": [
        "**Problem Statement:**\n",
        "\n",
        "Find all the list of products whose sum-of-price is between 290 and 310.\n",
        "\n",
        "ProductList = {p1:10, p2:15, p3:20, p4:25, p5:30, p6:35, p7:50}"
      ],
      "metadata": {
        "id": "S_hPG1F94vmW"
      }
    },
    {
      "cell_type": "code",
      "execution_count": null,
      "metadata": {
        "colab": {
          "base_uri": "https://localhost:8080/"
        },
        "id": "Y3HhtIFD4ZhE",
        "outputId": "91910721-373e-460b-9144-029a95e8be15"
      },
      "outputs": [
        {
          "output_type": "stream",
          "name": "stdout",
          "text": [
            "('p1', 'p10', 'p11', 'p13', 'p2', 'p4', 'p7')\n",
            "('p1', 'p11', 'p12', 'p2', 'p3', 'p4', 'p8', 'p9')\n",
            "('p1', 'p10', 'p14', 'p2', 'p6', 'p7', 'p8', 'p9')\n",
            "('p1', 'p10', 'p11', 'p14', 'p3', 'p4', 'p6', 'p8')\n",
            "('p1', 'p12', 'p13', 'p14', 'p2', 'p3', 'p4', 'p5')\n",
            "('p1', 'p10', 'p14', 'p2', 'p4', 'p5', 'p7', 'p9')\n",
            "('p10', 'p11', 'p12', 'p3', 'p5', 'p7')\n",
            "('p11', 'p14', 'p6', 'p7', 'p8', 'p9')\n",
            "('p1', 'p10', 'p12', 'p13', 'p7', 'p8')\n",
            "('p11', 'p13', 'p14', 'p2', 'p3', 'p7', 'p8')\n",
            "('p1', 'p10', 'p14', 'p2', 'p3', 'p6', 'p7', 'p9')\n",
            "('p1', 'p11', 'p13', 'p14', 'p3', 'p6', 'p7')\n",
            "('p1', 'p11', 'p12', 'p13', 'p3', 'p7')\n",
            "('p1', 'p10', 'p13', 'p14', 'p3', 'p5', 'p9')\n",
            "('p10', 'p11', 'p12', 'p8', 'p9')\n",
            "('p1', 'p10', 'p13', 'p14', 'p4', 'p7', 'p8')\n",
            "('p1', 'p11', 'p12', 'p14', 'p2', 'p3', 'p4', 'p8')\n",
            "('p1', 'p11', 'p14', 'p2', 'p4', 'p6', 'p8', 'p9')\n",
            "('p11', 'p13', 'p14', 'p5', 'p8', 'p9')\n",
            "('p1', 'p10', 'p13', 'p14', 'p3', 'p4', 'p5', 'p6')\n",
            "('p12', 'p13', 'p2', 'p3', 'p5', 'p8', 'p9')\n",
            "('p1', 'p10', 'p11', 'p14', 'p2', 'p4', 'p6', 'p7')\n",
            "('p13', 'p2', 'p3', 'p4', 'p5', 'p6', 'p7', 'p9')\n",
            "('p1', 'p13', 'p14', 'p2', 'p3', 'p6', 'p8', 'p9')\n",
            "('p10', 'p11', 'p12', 'p14', 'p4', 'p6')\n",
            "('p10', 'p11', 'p12', 'p2', 'p3', 'p4', 'p6')\n",
            "('p1', 'p10', 'p11', 'p12', 'p14', 'p3', 'p6')\n",
            "('p10', 'p12', 'p2', 'p3', 'p4', 'p7', 'p9')\n",
            "('p1', 'p10', 'p11', 'p13', 'p14', 'p3', 'p8')\n",
            "('p1', 'p12', 'p14', 'p2', 'p3', 'p6', 'p7', 'p8')\n",
            "('p10', 'p13', 'p3', 'p4', 'p5', 'p6', 'p7')\n",
            "('p1', 'p13', 'p2', 'p3', 'p4', 'p5', 'p6', 'p8', 'p9')\n",
            "('p11', 'p12', 'p13', 'p6', 'p7')\n",
            "('p10', 'p12', 'p13', 'p2', 'p3', 'p5', 'p8')\n",
            "('p10', 'p12', 'p13', 'p14', 'p3', 'p8')\n",
            "('p1', 'p12', 'p14', 'p2', 'p3', 'p5', 'p8', 'p9')\n",
            "('p10', 'p11', 'p2', 'p5', 'p6', 'p8', 'p9')\n",
            "('p1', 'p10', 'p11', 'p14', 'p3', 'p8', 'p9')\n",
            "('p1', 'p13', 'p3', 'p4', 'p6', 'p7', 'p8', 'p9')\n",
            "('p1', 'p10', 'p14', 'p3', 'p4', 'p7', 'p8', 'p9')\n",
            "('p1', 'p10', 'p13', 'p14', 'p3', 'p4', 'p6', 'p8')\n",
            "('p12', 'p14', 'p2', 'p3', 'p4', 'p6', 'p7', 'p8')\n",
            "('p13', 'p14', 'p3', 'p4', 'p5', 'p7', 'p9')\n",
            "('p1', 'p10', 'p11', 'p12', 'p4', 'p5', 'p6')\n",
            "('p11', 'p12', 'p13', 'p14', 'p3', 'p4')\n",
            "('p10', 'p11', 'p12', 'p14', 'p2', 'p3', 'p5')\n",
            "('p1', 'p10', 'p12', 'p2', 'p6', 'p7', 'p9')\n",
            "('p10', 'p12', 'p14', 'p3', 'p4', 'p5', 'p6')\n",
            "('p10', 'p13', 'p14', 'p2', 'p3', 'p5', 'p7')\n",
            "\n",
            "Total Sets:  49 \n",
            "\n"
          ]
        }
      ],
      "source": [
        "import random as r\n",
        "\n",
        "ProductList = {'p1':10, 'p2':15, 'p3':20, 'p4':25, 'p5':30, 'p6':35, 'p7':50,'p8':40, 'p9':55, 'p10':60, 'p11':65, 'p12':75, 'p13':70,'p14':45}\n",
        "LB = 290\n",
        "UB = 310\n",
        "resultList = set()\n",
        "iterations =1000\n",
        "\n",
        "for i in range(iterations):\n",
        "  size = r.randint(2,len(ProductList)-1)\n",
        "  comboList = r.sample(list(ProductList.keys()),size)\n",
        "  comboList.sort()\n",
        "\n",
        "  comboSum = sum([ProductList[i] for i in comboList])\n",
        "\n",
        "  if comboSum >= LB and comboSum <= UB:\n",
        "    resultList.add(tuple(comboList))\n",
        "\n",
        "for r in resultList:\n",
        "  print(r)\n",
        "\n",
        "print (\"\\nTotal Sets: \", len(resultList), \"\\n\")"
      ]
    }
  ]
}